{
 "cells": [
  {
   "cell_type": "markdown",
   "id": "f694bb6c",
   "metadata": {},
   "source": [
    "# Movie Rating Prediction\n",
    "\n",
    "\n",
    "building a regression model to predict movie ratings based on features like genre, director, and actors.\n",
    "\n",
    "\n",
    "Dataset: [Movie Rating Prediction Dataset](https://www.kaggle.com/datasets/adrianmcmahon/imdb-india-movies)\n",
    "\n",
    "---"
   ]
  },
  {
   "cell_type": "markdown",
   "id": "1bad5d36",
   "metadata": {},
   "source": [
    "## Introduction\n",
    "This project focuses on \n",
    "building a regression model to predict movie ratings based on features like genre, director, and actors.\n",
    "."
   ]
  },
  {
   "cell_type": "code",
   "execution_count": 2,
   "id": "c7e17e44",
   "metadata": {},
   "outputs": [],
   "source": [
    "\n",
    "# Import necessary libraries\n",
    "import pandas as pd\n",
    "import numpy as np\n",
    "import seaborn as sns\n",
    "import matplotlib.pyplot as plt\n",
    "from sklearn.model_selection import train_test_split\n",
    "from sklearn.metrics import accuracy_score, confusion_matrix, classification_report, mean_squared_error, r2_score\n",
    "from sklearn.ensemble import RandomForestClassifier\n",
    "from sklearn.linear_model import LinearRegression\n",
    "from sklearn.preprocessing import OneHotEncoder\n"
   ]
  },
  {
   "cell_type": "markdown",
   "id": "48d6e0dc",
   "metadata": {},
   "source": [
    "### Step 1: Load the Dataset\n",
    "We first load the dataset and display its structure to understand its features."
   ]
  },
  {
   "cell_type": "code",
   "execution_count": 3,
   "id": "5437b00d",
   "metadata": {},
   "outputs": [],
   "source": [
    "data = pd.read_csv(r'C:\\Users\\gaura\\Downloads\\IMDb Movies India.csv', encoding=\"latin1\")\n",
    "data.head()\n",
    "\n",
    "# Handle missing values\n",
    "data.dropna(subset=[\"Rating\"], inplace=True)  # Drop rows where Rating is missing\n",
    "data.ffill(inplace=True)  # Fill remaining NaNs with forward fill\n",
    "\n",
    "# Clean Year column\n",
    "data[\"Year\"] = data[\"Year\"].str.extract(r\"(\\d+)\").astype(float)\n",
    "\n",
    "# Convert Duration to numerical format\n",
    "data[\"Duration\"] = data[\"Duration\"].str.replace(\" min\", \"\").astype(float)\n"
   ]
  },
  {
   "cell_type": "markdown",
   "id": "4062e954",
   "metadata": {},
   "source": [
    "### Step 2: Data Overview\n",
    "Let's inspect the dataset for missing values and other irregularities."
   ]
  },
  {
   "cell_type": "code",
   "execution_count": 4,
   "id": "6215c6d4",
   "metadata": {},
   "outputs": [
    {
     "name": "stdout",
     "output_type": "stream",
     "text": [
      "<class 'pandas.core.frame.DataFrame'>\n",
      "Index: 7919 entries, 1 to 15508\n",
      "Data columns (total 10 columns):\n",
      " #   Column    Non-Null Count  Dtype  \n",
      "---  ------    --------------  -----  \n",
      " 0   Name      7919 non-null   object \n",
      " 1   Year      7919 non-null   float64\n",
      " 2   Duration  7919 non-null   float64\n",
      " 3   Genre     7919 non-null   object \n",
      " 4   Rating    7919 non-null   float64\n",
      " 5   Votes     7919 non-null   object \n",
      " 6   Director  7919 non-null   object \n",
      " 7   Actor 1   7919 non-null   object \n",
      " 8   Actor 2   7919 non-null   object \n",
      " 9   Actor 3   7919 non-null   object \n",
      "dtypes: float64(3), object(7)\n",
      "memory usage: 680.5+ KB\n",
      "None\n",
      "              Year     Duration       Rating\n",
      "count  7919.000000  7919.000000  7919.000000\n",
      "mean   1993.321758   132.969062     5.841621\n",
      "std      20.463770    26.228506     1.381777\n",
      "min    1917.000000    21.000000     1.100000\n",
      "25%    1979.500000   118.000000     4.900000\n",
      "50%    1997.000000   135.000000     6.000000\n",
      "75%    2011.000000   150.000000     6.800000\n",
      "max    2021.000000   321.000000    10.000000\n"
     ]
    }
   ],
   "source": [
    "# Display dataset information\n",
    "print(data.info())\n",
    "print(data.describe())"
   ]
  },
  {
   "cell_type": "markdown",
   "id": "b6f02ac9",
   "metadata": {},
   "source": [
    "### Step 3: Preprocess Data\n",
    "Handle missing values and encode categorical variables to prepare the dataset for modeling."
   ]
  },
  {
   "cell_type": "code",
   "execution_count": 5,
   "id": "8b2b677f",
   "metadata": {},
   "outputs": [],
   "source": [
    "# Fill missing values in the 'Genre' column\n",
    "data['Genre'] = data['Genre'].fillna('Unknown')\n",
    "\n",
    "# Convert the 'Genre' column to categorical and encode it as codes\n",
    "data['Genre'] = data['Genre'].astype('category').cat.codes\n"
   ]
  },
  {
   "cell_type": "markdown",
   "id": "92f56fb5",
   "metadata": {},
   "source": [
    "### Step 4: Define Features and Target\n",
    "Select the features (X) and the target variable (y) for prediction."
   ]
  },
  {
   "cell_type": "code",
   "execution_count": 6,
   "id": "67eda03f-6594-473e-acf1-aadc4947e1af",
   "metadata": {},
   "outputs": [],
   "source": [
    "# Combine actor columns into a single 'Actors' column\n",
    "data['Actors'] = data[['Actor 1', 'Actor 2', 'Actor 3']].apply(lambda x: ', '.join(x.dropna()), axis=1)\n",
    "\n",
    "# Define features (X) and target (y)\n",
    "X = data[['Genre', 'Director', 'Actors']]  # Replace with relevant features\n",
    "y = data['Rating']"
   ]
  },
  {
   "cell_type": "code",
   "execution_count": 7,
   "id": "163ed10e",
   "metadata": {},
   "outputs": [],
   "source": [
    "# Define features (X) and target (y)\n",
    "X = data[['Genre', 'Director', 'Actors']]  # Replace with relevant features\n",
    "y = data['Rating']"
   ]
  },
  {
   "cell_type": "markdown",
   "id": "895c197c",
   "metadata": {},
   "source": [
    "### Step 5: Split the Data\n",
    "Split the dataset into training and testing sets for model evaluation."
   ]
  },
  {
   "cell_type": "code",
   "execution_count": 8,
   "id": "3e8f62f5",
   "metadata": {},
   "outputs": [],
   "source": [
    "# Split the data\n",
    "X_train, X_test, y_train, y_test = train_test_split(X, y, test_size=0.2, random_state=42)\n",
    "# Align train and test sets to have the same columns\n",
    "X_train, X_test = X_train.align(X_test, join=\"left\", axis=1, fill_value=0)\n"
   ]
  },
  {
   "cell_type": "markdown",
   "id": "95dae8ea",
   "metadata": {},
   "source": [
    "### Step 6: Train the Model\n",
    "Fit a linear regression model to the training data."
   ]
  },
  {
   "cell_type": "code",
   "execution_count": 9,
   "id": "10b27d57",
   "metadata": {},
   "outputs": [],
   "source": [
    "# Encode categorical columns (assuming `X_train` has categorical data)\n",
    "encoder = OneHotEncoder(handle_unknown='ignore')  # Ignore unknown categories\n",
    "X_train_encoded = encoder.fit_transform(X_train).toarray()\n",
    "\n",
    "# Drop NaN values in y_train to match the length of X_train_encoded\n",
    "X_train_encoded = X_train_encoded[~y_train.isna()]\n",
    "y_train = y_train.dropna()\n",
    "\n",
    "# Train the regression model\n",
    "model = LinearRegression()\n",
    "model.fit(X_train_encoded, y_train)\n",
    "# Encode categorical variables\n",
    "data = pd.get_dummies(data, columns=[\"Genre\", \"Director\", \"Actor 1\", \"Actor 2\", \"Actor 3\"], drop_first=True)\n"
   ]
  },
  {
   "cell_type": "markdown",
   "id": "d6986964",
   "metadata": {},
   "source": [
    "### Step 7: Evaluate the Model\n",
    "Check the model's performance using metrics like Mean Squared Error and R2 Score."
   ]
  },
  {
   "cell_type": "code",
   "execution_count": 10,
   "id": "07360a84",
   "metadata": {},
   "outputs": [
    {
     "name": "stdout",
     "output_type": "stream",
     "text": [
      "Mean Squared Error: 1.8291673319053885\n",
      "R2 Score: 0.016124512326556317\n"
     ]
    }
   ],
   "source": [
    "# Ensure X_test is encoded using the same encoder as X_train\n",
    "X_test_encoded = encoder.transform(X_test).toarray()\n",
    "\n",
    "# Ensure the shape of X_test_encoded matches the expectations\n",
    "if X_test_encoded.shape[1] != model.coef_.shape[0]:\n",
    "    print(\"Mismatch in feature dimensions. Check for consistency between training and test data.\")\n",
    "\n",
    "# Evaluate the model\n",
    "y_pred = model.predict(X_test_encoded)\n",
    "print(\"Mean Squared Error:\", mean_squared_error(y_test, y_pred))\n",
    "print(\"R2 Score:\", r2_score(y_test, y_pred))"
   ]
  },
  {
   "cell_type": "markdown",
   "id": "2ca12969",
   "metadata": {},
   "source": [
    "## Conclusion\n",
    "This notebook demonstrates an end-to-end solution for building and evaluating the specified model. Ensure you follow best practices in preprocessing, feature engineering, and evaluation."
   ]
  }
 ],
 "metadata": {
  "kernelspec": {
   "display_name": "Python 3 (ipykernel)",
   "language": "python",
   "name": "python3"
  },
  "language_info": {
   "codemirror_mode": {
    "name": "ipython",
    "version": 3
   },
   "file_extension": ".py",
   "mimetype": "text/x-python",
   "name": "python",
   "nbconvert_exporter": "python",
   "pygments_lexer": "ipython3",
   "version": "3.12.4"
  }
 },
 "nbformat": 4,
 "nbformat_minor": 5
}
